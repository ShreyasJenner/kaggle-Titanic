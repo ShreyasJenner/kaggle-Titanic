{
 "cells": [
  {
   "cell_type": "code",
   "execution_count": 21,
   "id": "5821247c-84dd-4ae3-9196-63d4fa9a976b",
   "metadata": {},
   "outputs": [],
   "source": [
    "import pandas as pd\n",
    "import numpy as np\n",
    "import matplotlib.pyplot as plt\n",
    "from sklearn.preprocessing import LabelEncoder\n",
    "from sklearn.linear_model import LogisticRegression\n",
    "from sklearn.model_selection import train_test_split\n",
    "from sklearn.metrics import accuracy_score\n",
    "from sklearn.neighbors import KNeighborsClassifier\n",
    "import math"
   ]
  },
  {
   "cell_type": "code",
   "execution_count": 22,
   "id": "4c0690aa-d486-407d-ad2d-2eed52a82deb",
   "metadata": {},
   "outputs": [],
   "source": [
    "# df -> path to data frame to be pre-processed\n",
    "# name -> name of file to which preprocessed data frame is written to\n",
    "def PreProcessing(df, path):\n",
    "    # remove name, cabin and ticket column\n",
    "    df = df.drop(columns=[\"Name\",\"Cabin\", \"Ticket\"])\n",
    "\n",
    "    # label encode gender column\n",
    "    genderEncoder = LabelEncoder()\n",
    "    genderEncoder.fit(df['Sex'])\n",
    "    sex_n = genderEncoder.transform(df['Sex'])\n",
    "    \n",
    "    # replace col with label encoded column \n",
    "    df['Sex'] = sex_n\n",
    "\n",
    "    # label encode embarked column\n",
    "    embarkedEncoder = LabelEncoder()\n",
    "    embarkedEncoder.fit(df['Embarked'])\n",
    "    embarked_n = embarkedEncoder.transform(df['Embarked'])\n",
    "    \n",
    "    # replace Embarked col with encoded col\n",
    "    df['Embarked'] = embarked_n\n",
    "\n",
    "    # fill all NAs for age with median \n",
    "    df['Age'] = df['Age'].fillna(df['Age'].median())\n",
    "    df['Age'].isna().sum()\n",
    "\n",
    "    # fill column 'embarked' NAs with mode\n",
    "    df['Embarked'] = df['Embarked'].fillna(df['Embarked'].mode()[0])\n",
    "    df['Embarked'].isna().sum()\n",
    "\n",
    "    # write pre-processed df to disk\n",
    "    df.to_csv(path,index='False')"
   ]
  },
  {
   "cell_type": "code",
   "execution_count": 18,
   "id": "2363ecf8-56da-41cc-9947-03296bba6148",
   "metadata": {},
   "outputs": [],
   "source": [
    "# training df\n",
    "train_df = pd.read_csv(\"../datasets/titanic/train.csv\")\n",
    "test_df = pd.read_csv(\"../datasets/titanic/test.csv\")"
   ]
  },
  {
   "cell_type": "code",
   "execution_count": 19,
   "id": "a7470078-baf9-423f-941e-a639724779e6",
   "metadata": {},
   "outputs": [],
   "source": [
    "PreProcessing(train_df, \"../datasets/titanic/preprocessed_train.csv\")"
   ]
  },
  {
   "cell_type": "code",
   "execution_count": 20,
   "id": "7c4c1661-643e-40c6-bb1d-c8ad9cf4840d",
   "metadata": {},
   "outputs": [],
   "source": [
    "PreProcessing(test_df, \"../datasets/titanic/preprocessed_test.csv\")"
   ]
  },
  {
   "cell_type": "code",
   "execution_count": null,
   "id": "a2144153-538c-43bc-a4a2-9c7864c4cfd3",
   "metadata": {},
   "outputs": [],
   "source": []
  }
 ],
 "metadata": {
  "kernelspec": {
   "display_name": "venv",
   "language": "python",
   "name": "venv"
  },
  "language_info": {
   "codemirror_mode": {
    "name": "ipython",
    "version": 3
   },
   "file_extension": ".py",
   "mimetype": "text/x-python",
   "name": "python",
   "nbconvert_exporter": "python",
   "pygments_lexer": "ipython3",
   "version": "3.12.7"
  }
 },
 "nbformat": 4,
 "nbformat_minor": 5
}
